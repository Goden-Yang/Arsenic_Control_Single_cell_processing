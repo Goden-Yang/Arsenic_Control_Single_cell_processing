{
 "cells": [
  {
   "cell_type": "code",
   "execution_count": null,
   "metadata": {
    "collapsed": true
   },
   "outputs": [],
   "source": [
    "\n",
    "#scATAC-seq processing after cistopic\n",
    "import scanpy as sc\n",
    "import anndata as an\n",
    "import pandas as pd\n",
    "import numpy as np\n",
    "import matplotlib as mpl\n",
    "import matplotlib.pyplot as plt\n",
    "import seaborn as sns\n",
    "import scanorama\n",
    "import bbknn\n",
    "sc.set_figure_params(facecolor=\"white\", figsize=(9, 5),fontsize = 20)\n",
    "\n",
    "adata_atac_ctrl = sc.read_csv(\"./Cistopic_ATAC_CTRL.csv\")\n",
    "adata_atac_ars = sc.read_csv(\"./Cistopic_ATAC_ARS.csv\")\n",
    "adata_atac_ctrl.var_names_make_unique()\n",
    "adata_atac_ars.var_names_make_unique()\n",
    "\n",
    "\n",
    "for adata2 in [\n",
    "    adata_atac_ctrl,\n",
    "    adata_atac_ars,\n",
    "]:\n",
    "    sc.pp.normalize_total(adata2, inplace=True)\n",
    "    sc.pp.log1p(adata2)\n",
    "    sc.pp.highly_variable_genes(adata2, flavor=\"seurat\", n_top_genes=2000, inplace=True)\n",
    "adatas2 = [adata_atac_ars, adata_atac_ctrl]\n",
    "adatas_cor2 = scanorama.correct_scanpy(adatas2, return_dimred=True)\n",
    "adata2 = adatas_cor2[0].concatenate(\n",
    "    adatas_cor2[1],\n",
    "    batch_key=\"library_id\",\n",
    "    uns_merge=\"unique\",\n",
    "    batch_categories=[\"Control\",\"Arsenic\"],\n",
    ")\n",
    "\n",
    "sc.tl.pca(adata2)\n",
    "sc.external.pp.bbknn(adata_spatial2,batch_key=\"library_id\")\n",
    "sc.tl.umap(adata2)\n",
    "sc.tl.leiden(adata2, key_added=\"clusters\")\n",
    "sc.pl.umap(adata2, color=[\"clusters\", \"library_id\"], palette=sc.pl.palettes.default_20)\n",
    "plt.tight_layout()\n",
    "sc.pl.umap(adata2, color=[\"clusters\", \"library_id\"], palette=sc.pl.palettes.default_20, legend_loc = 'on data',legend_fontsize = 12,legend_fontoutline=2)\n",
    "plt.tight_layout()\n",
    "sc.pl.umap(adata2, color=[  \"clusters\", \"library_id\"],add_outline=True,size=20, legend_loc = 'on data',frameon=False,save='_atac_cluster.pdf')\n",
    "\n",
    "adata.write_h5ad('dmerged_ATAC.h5ad')"
   ]
  }
 ],
 "metadata": {
  "kernelspec": {
   "display_name": "Python 3",
   "language": "python",
   "name": "python3"
  },
  "language_info": {
   "codemirror_mode": {
    "name": "ipython",
    "version": 2
   },
   "file_extension": ".py",
   "mimetype": "text/x-python",
   "name": "python",
   "nbconvert_exporter": "python",
   "pygments_lexer": "ipython2",
   "version": "2.7.6"
  }
 },
 "nbformat": 4,
 "nbformat_minor": 0
}