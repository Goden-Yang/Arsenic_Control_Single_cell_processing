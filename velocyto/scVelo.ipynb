{
 "cells": [
  {
   "cell_type": "code",
   "execution_count": null,
   "metadata": {
    "collapsed": true,
    "pycharm": {
     "name": "#%%\n"
    }
   },
   "outputs": [],
   "source": [
    "#RNA velocity (scRNA-seq in multi-omic data as an example)\n",
    "\n",
    "import scvelo as scv\n",
    "adata1 = scv.read('dmerged.h5ad')\n",
    "ladata = scv.read('dmerged.loom')\n",
    "adata = scv.utils.merge(adata1,ladata)\n",
    "scv.pp.filter_and_normalize(adata, min_shared_counts=20, n_top_genes=2000)\n",
    "scv.pp.moments(adata, n_pcs=30, n_neighbors=30)\n",
    "scv.tl.velocity(adata)\n",
    "scv.tl.velocity_graph(adata)\n",
    "scv.pl.velocity_embedding_stream(adata, basis=\"umap\", color=\"leiden\")\n",
    "\n",
    "\n"
   ]
  }
 ],
 "metadata": {
  "kernelspec": {
   "display_name": "Python 3",
   "language": "python",
   "name": "python3"
  },
  "language_info": {
   "codemirror_mode": {
    "name": "ipython",
    "version": 2
   },
   "file_extension": ".py",
   "mimetype": "text/x-python",
   "name": "python",
   "nbconvert_exporter": "python",
   "pygments_lexer": "ipython2",
   "version": "2.7.6"
  }
 },
 "nbformat": 4,
 "nbformat_minor": 0
}